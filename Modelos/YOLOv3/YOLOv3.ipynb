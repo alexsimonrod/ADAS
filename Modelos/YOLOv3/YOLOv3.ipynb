{
 "cells": [
  {
   "cell_type": "markdown",
   "metadata": {},
   "source": [
    "# Libreta de Órdenes YOLOv3"
   ]
  },
  {
   "cell_type": "markdown",
   "metadata": {},
   "source": [
    "# Entrenamiento"
   ]
  },
  {
   "cell_type": "markdown",
   "metadata": {},
   "source": [
    "### Descargar los pesos preentrenados y congelar las primeras capas para realizar finetuning"
   ]
  },
  {
   "cell_type": "code",
   "execution_count": null,
   "metadata": {},
   "outputs": [],
   "source": [
    "! wget https://pjreddie.com/media/files/yolov3.weights\n",
    "! /scratch/tfg-adas/darknet/darknet partial \\\n",
    "\t/scratch/tfg-adas/models/yolo_v3/configs/yolo_v3_kitti_finetuning_training.cfg \\\n",
    "\t/scratch/tfg-adas/darknet/yolov3.weights \\\n",
    "\t/scratch/tfg-adas/darknet/yolov3.conv.81 \\\n",
    "\t81"
   ]
  },
  {
   "cell_type": "markdown",
   "metadata": {},
   "source": [
    "### Fase de Entrenamiento sobre KITTI"
   ]
  },
  {
   "cell_type": "code",
   "execution_count": null,
   "metadata": {},
   "outputs": [],
   "source": [
    "! /scratch/tfg-adas/darknet/darknet detector train \\\n",
    "\t/scratch/tfg-adas/datasets/kitti/kitti.data \\\n",
    "\t/scratch/tfg-adas/models/yolo_v3/configs/yolo_v3_kitti_finetuning_training.cfg \\\n",
    "\t/scratch/tfg-adas/darknet/yolov3.conv.81 \\\n",
    "\t-dont_show \\\n",
    "\t-mjpeg_port 8090 \\\n",
    "\t-map"
   ]
  },
  {
   "cell_type": "markdown",
   "metadata": {},
   "source": [
    "### Fase de Entrenamiento sobre ALLDATASET"
   ]
  },
  {
   "cell_type": "code",
   "execution_count": null,
   "metadata": {},
   "outputs": [],
   "source": [
    "! /scratch/tfg-adas/darknet/darknet detector train \\\n",
    "\t/scratch/tfg-adas/datasets/allunited/allunited.data \\\n",
    "\t/scratch/tfg-adas/models/yolo_v3/configs/yolo_v3_final_dataset_training.cfg \\\n",
    "\t/scratch/tfg-adas/darknet/yolov3.conv.81 \\\n",
    "\t-dont_show \\\n",
    "\t-mjpeg_port 8090 \\\n",
    "\t-map"
   ]
  },
  {
   "cell_type": "markdown",
   "metadata": {},
   "source": [
    "# Evaluación"
   ]
  },
  {
   "cell_type": "markdown",
   "metadata": {},
   "source": [
    "### Inferencia de la red entrenada en KITTI ejecutada en darknet GPU"
   ]
  },
  {
   "cell_type": "code",
   "execution_count": null,
   "metadata": {},
   "outputs": [],
   "source": [
    "! /scratch/tfg-adas/darknet/darknet detector map \\\n",
    "\t/scratch/tfg-adas/datasets/kitti/kitti.data \\\n",
    "\t/scratch/tfg-adas/models/yolo_v3/configs/yolo_v3_kitti_finetuning_testing.cfg  \\\n",
    "\t/scratch/tfg-adas/models/yolo_v3/kitti_finetuned/yolo_v3_kitti_finetuning_training_last.weights "
   ]
  },
  {
   "cell_type": "markdown",
   "metadata": {},
   "source": [
    "### Inferencia de la red entrenada en ALLDATASET ejecutada en darknet GPU"
   ]
  },
  {
   "cell_type": "code",
   "execution_count": null,
   "metadata": {},
   "outputs": [],
   "source": [
    "! /scratch/tfg-adas/darknet/darknet detector map \\\n",
    "\t/scratch/tfg-adas/datasets/allunited/allunited.data \\\n",
    "\t/scratch/tfg-adas/models/yolo_v3/configs/yolo_v3_kitti_finetuning_testing.cfg  \\\n",
    "\t/scratch/tfg-adas/models/yolo_v3/allunited_finetuned/yolo_v3_allunited_finetuning_training_last.weights "
   ]
  }
 ],
 "metadata": {
  "kernelspec": {
   "display_name": "Python 3",
   "language": "python",
   "name": "python3"
  },
  "language_info": {
   "codemirror_mode": {
    "name": "ipython",
    "version": 3
   },
   "file_extension": ".py",
   "mimetype": "text/x-python",
   "name": "python",
   "nbconvert_exporter": "python",
   "pygments_lexer": "ipython3",
   "version": "3.7.7"
  }
 },
 "nbformat": 4,
 "nbformat_minor": 2
}
