{
 "cells": [
  {
   "cell_type": "markdown",
   "metadata": {},
   "source": [
    "# Libreta de Órdenes Faster R-CNN"
   ]
  },
  {
   "cell_type": "markdown",
   "metadata": {},
   "source": [
    "### Variables de entrenamiento\n",
    "1. **Archivos de configuración**\n",
    "    + PIPELINE_CONFIG_PATH_KITTI=/scratch/tfg-adas/models/faster_rcnn_inception_v2_coco_2018_01_28/configs/faster_kitti.config\n",
    "    + PIPELINE_CONFIG_PATH_ALL=/scratch/tfg-adas/models/faster_rcnn_inception_v2_coco_2018_01_28/configs/faster_alldataset.config\n",
    "\n",
    "2. **Directorio del modelo**\n",
    "    + MODEL_DIR_KITTI=/scratch/tfg-adas/models/faster_rcnn_inception_v2_coco_2018_01_28/kitti\n",
    "    + MODEL_DIR_ALL=/scratch/tfg-adas/models/faster_rcnn_inception_v2_coco_2018_01_28/alldataset\n",
    "\n",
    "3. **Especificaciones de entrenamiento**\n",
    "    + NUM_TRAIN_STEPS=1000000\n",
    "    + SAMPLE_1_OF_N_EVAL_EXAMPLES=10\n",
    "\n",
    "### Variables de exportacion de la red\n",
    "1. **Archivos de configuración**\n",
    "    + PIPELINE_CONFIG_PATH_KITTI=/scratch/tfg-adas/models/faster_rcnn_inception_v2_coco_2018_01_28/configs/faster_kitti.config\n",
    "    + PIPELINE_CONFIG_PATH_ALL=/scratch/tfg-adas/models/faster_rcnn_inception_v2_coco_2018_01_28/configs/faster_alldataset.config\n",
    "    \n",
    "2. **Directorio de exportación**\n",
    "    + EXPORT_DIR_KITTI=/scratch/tfg-adas/models/faster_rcnn_inception_v2_coco_2018_01_28/kitti\n",
    "    + EXPORT_DIR_ALL=/scratch/tfg-adas/models/faster_rcnn_inception_v2_coco_2018_01_28/alldataset\n",
    "\n",
    "3. **Opciones de exportacion**\n",
    "    + LAST_CHECKPOINT=1000000\n",
    "    + INPUT_TYPE=image_tensor\n",
    "\n",
    "4. **Directorio del modelo**\n",
    "    + TRAINED_CKPT_PREFIX_KITTI=/scratch/tfg-adas/models/faster_rcnn_inception_v2_coco_2018_01_28/kitti/model.ckpt-\\${LAST_CHECKPOINT}\n",
    "    + TRAINED_CKPT_PREFIX_ALL=/scratch/tfg-adas/models/faster_rcnn_inception_v2_coco_2018_01_28/alldataset/model.ckpt-\\${LAST_CHECKPOINT}\n",
    "    \n",
    "\n",
    "\n",
    "        \n",
    "\n"
   ]
  },
  {
   "cell_type": "code",
   "execution_count": null,
   "metadata": {},
   "outputs": [],
   "source": [
    "! PIPELINE_CONFIG_PATH_KITTI=/scratch/tfg-adas/models/faster_rcnn_inception_v2_coco_2018_01_28/configs/faster_kitti.config\n",
    "! PIPELINE_CONFIG_PATH_ALL=/scratch/tfg-adas/models/faster_rcnn_inception_v2_coco_2018_01_28/configs/faster_alldataset.config\n",
    "! MODEL_DIR_KITTI=/scratch/tfg-adas/models/faster_rcnn_inception_v2_coco_2018_01_28/kitti\n",
    "! MODEL_DIR_ALL=/scratch/tfg-adas/models/faster_rcnn_inception_v2_coco_2018_01_28/alldataset\n",
    "! NUM_TRAIN_STEPS=1000000\n",
    "! SAMPLE_1_OF_N_EVAL_EXAMPLES=10\n",
    "! EXPORT_DIR_KITTI=/scratch/tfg-adas/models/faster_rcnn_inception_v2_coco_2018_01_28/kitti\n",
    "! EXPORT_DIR_ALL=/scratch/tfg-adas/models/faster_rcnn_inception_v2_coco_2018_01_28/alldataset\n",
    "! LAST_CHECKPOINT=1000000\n",
    "! INPUT_TYPE=image_tensor\n",
    "! TRAINED_CKPT_PREFIX_KITTI=/scratch/tfg-adas/models/faster_rcnn_inception_v2_coco_2018_01_28/kitti/model.ckpt-${LAST_CHECKPOINT}\n",
    "! TRAINED_CKPT_PREFIX_ALL=/scratch/tfg-adas/models/faster_rcnn_inception_v2_coco_2018_01_28/alldataset/model.ckpt-${LAST_CHECKPOINT}"
   ]
  },
  {
   "cell_type": "markdown",
   "metadata": {},
   "source": [
    "### Fase de Entrenamiento KITTI"
   ]
  },
  {
   "cell_type": "code",
   "execution_count": null,
   "metadata": {},
   "outputs": [],
   "source": [
    "! python3 /scratch/tfg-adas/tensorflow/models/research/object_detection/model_main.py \\\n",
    "    --pipeline_config_path=${PIPELINE_CONFIG_PATH_KITTI} \\\n",
    "    --model_dir=${MODEL_DIR_KITTI} \\\n",
    "    --num_train_steps=${NUM_TRAIN_STEPS} \\\n",
    "    --sample_1_of_n_eval_examples=$SAMPLE_1_OF_N_EVAL_EXAMPLES \\\n",
    "    --alsologtostderr"
   ]
  },
  {
   "cell_type": "markdown",
   "metadata": {},
   "source": [
    "### Fase de Entrenamiento ALLDATASET"
   ]
  },
  {
   "cell_type": "code",
   "execution_count": null,
   "metadata": {},
   "outputs": [],
   "source": [
    "! python3 /scratch/tfg-adas/tensorflow/models/research/object_detection/model_main.py \\\n",
    "    --pipeline_config_path=${PIPELINE_CONFIG_PATH_ALL} \\\n",
    "    --model_dir=${MODEL_DIR_ALL} \\\n",
    "    --num_train_steps=${NUM_TRAIN_STEPS} \\\n",
    "    --sample_1_of_n_eval_examples=$SAMPLE_1_OF_N_EVAL_EXAMPLES \\\n",
    "    --alsologtostderr"
   ]
  },
  {
   "cell_type": "markdown",
   "metadata": {},
   "source": [
    "### Exportar Red KITTI"
   ]
  },
  {
   "cell_type": "code",
   "execution_count": null,
   "metadata": {},
   "outputs": [],
   "source": [
    "! python3 /scratch/tfg-adas/tensorflow/models/research/object_detection/export_inference_graph.py \\\n",
    "    --input_type=${INPUT_TYPE} \\\n",
    "    --pipeline_config_path=${PIPELINE_CONFIG_PATH_KITTI} \\\n",
    "    --trained_checkpoint_prefix=${TRAINED_CKPT_PREFIX_KITTI} \\\n",
    "    --output_directory=${EXPORT_DIR_KITTI}"
   ]
  },
  {
   "cell_type": "markdown",
   "metadata": {},
   "source": [
    "### Exportar Red ALLDATASET"
   ]
  },
  {
   "cell_type": "code",
   "execution_count": null,
   "metadata": {},
   "outputs": [],
   "source": [
    "! python3 /scratch/tfg-adas/tensorflow/models/research/object_detection/export_inference_graph.py \\\n",
    "    --input_type=${INPUT_TYPE} \\\n",
    "    --pipeline_config_path=${PIPELINE_CONFIG_PATH_ALL} \\\n",
    "    --trained_checkpoint_prefix=${TRAINED_CKPT_PREFIX_ALL} \\\n",
    "    --output_directory=${EXPORT_DIR_ALL}"
   ]
  },
  {
   "cell_type": "markdown",
   "metadata": {},
   "source": [
    "### Convertir Red sobre KITTI a formato IR Openvino FP32"
   ]
  },
  {
   "cell_type": "code",
   "execution_count": null,
   "metadata": {},
   "outputs": [],
   "source": [
    "! python3 ~/intel/openvino2020/deployment_tools/model_optimizer/mo_tf.py \\\n",
    "    --input_model /scratch/tfg-adas/models/faster_rcnn_inception_v2_coco_2018_01_28/kitti/frozen_inference_graph.pb \\\n",
    "    --transformations_config ~/intel/openvino/deployment_tools/model_optimizer/extensions/front/tf/faster_rcnn_support_api_v1.14.json  \\\n",
    "    --tensorflow_object_detection_api_pipeline_config /scratch/tfg-adas/models/faster_rcnn_inception_v2_coco_2018_01_28/kitti/pipeline.config \\\n",
    "    --output_dir /scratch/tfg-adas/models/faster_rcnn_inception_v2_coco_2018_01_28/kitti/IR/FP32 \\\n",
    "    --model_name faster_rcnn_inception_v2_coco \\\n",
    "    --data_type FP32 \\\n",
    "    --input image_tensor \\\n",
    "    --reverse_input_channels \\\n",
    "    --input_shape [1,600,1024,3] "
   ]
  },
  {
   "cell_type": "markdown",
   "metadata": {},
   "source": [
    "### Convertir Red sobre KITTI a formato IR Openvino FP16"
   ]
  },
  {
   "cell_type": "code",
   "execution_count": null,
   "metadata": {},
   "outputs": [],
   "source": [
    "! python3 ~/intel/openvino2020/deployment_tools/model_optimizer/mo_tf.py \\\n",
    "    --input_model /scratch/tfg-adas/models/faster_rcnn_inception_v2_coco_2018_01_28/kitti/frozen_inference_graph.pb \\\n",
    "    --transformations_config ~/intel/openvino/deployment_tools/model_optimizer/extensions/front/tf/faster_rcnn_support_api_v1.14.json  \\\n",
    "    --tensorflow_object_detection_api_pipeline_config /scratch/tfg-adas/models/faster_rcnn_inception_v2_coco_2018_01_28/kitti/pipeline.config \\\n",
    "    --output_dir /scratch/tfg-adas/models/faster_rcnn_inception_v2_coco_2018_01_28/kitti/IR/FP16 \\\n",
    "    --model_name faster_rcnn_inception_v2_coco \\\n",
    "    --data_type FP16 \\\n",
    "    --input image_tensor \\\n",
    "    --reverse_input_channels \\\n",
    "    --input_shape [1,600,1024,3]"
   ]
  },
  {
   "cell_type": "markdown",
   "metadata": {},
   "source": [
    "### Inferencia de la red entrenada en KITTI ejecutada en CPU FP32"
   ]
  },
  {
   "cell_type": "code",
   "execution_count": 1,
   "metadata": {
    "scrolled": true
   },
   "outputs": [
    {
     "name": "stderr",
     "output_type": "stream",
     "text": [
      "Python was not found but can be installed from the Microsoft Store: https://go.microsoft.com/fwlink?linkID=2082640\n"
     ]
    }
   ],
   "source": [
    "! python3 ~/intel/openvino2020/deployment_tools/tools/accuracy_checker_tool/accuracy_check.py \\\n",
    "    -c /scratch/tfg-adas/models/faster_rcnn_inception_v2_coco_2018_01_28/configs/faster_rcnn_inception_v2_coco.yml \\\n",
    "    -m /scratch/tfg-adas/models/faster_rcnn_inception_v2_coco_2018_01_28/kitti/IR/FP32 \\\n",
    "    -s /scratch/tfg-adas/datasets/kitti/voc_converted/ \\\n",
    "    -a /scratch/tfg-adas/datasets/kitti/openvino_annotations/ \\\n",
    "    -tf dlsdk \\\n",
    "    -tt FP32 \\\n",
    "    --async_mode 1 \\\n",
    "    -td CPU "
   ]
  },
  {
   "cell_type": "markdown",
   "metadata": {},
   "source": [
    "### Inferencia de la red entrenada en KITTI ejecutada en CPU FP16"
   ]
  },
  {
   "cell_type": "code",
   "execution_count": null,
   "metadata": {},
   "outputs": [],
   "source": [
    "! python3 ~/intel/openvino2020/deployment_tools/tools/accuracy_checker_tool/accuracy_check.py \\\n",
    "    -c /scratch/tfg-adas/models/faster_rcnn_inception_v2_coco_2018_01_28/configs/faster_rcnn_inception_v2_coco.yml \\\n",
    "    -m /scratch/tfg-adas/models/faster_rcnn_inception_v2_coco_2018_01_28/kitti/IR/FP16 \\\n",
    "    -s /scratch/tfg-adas/datasets/kitti/voc_converted/ \\\n",
    "    -a /scratch/tfg-adas/datasets/kitti/openvino_annotations/ \\\n",
    "    -tf dlsdk \\\n",
    "    -tt FP16 \\\n",
    "    -td CPU"
   ]
  },
  {
   "cell_type": "markdown",
   "metadata": {},
   "source": [
    "### Inferencia de la red entrenada en KITTI ejecutada en GPU FP32"
   ]
  },
  {
   "cell_type": "code",
   "execution_count": null,
   "metadata": {},
   "outputs": [],
   "source": [
    "! python3 ~/intel/openvino2020/deployment_tools/tools/accuracy_checker_tool/accuracy_check.py \\\n",
    "    -c /scratch/tfg-adas/models/faster_rcnn_inception_v2_coco_2018_01_28/configs/faster_rcnn_inception_v2_coco.yml \\\n",
    "    -m /scratch/tfg-adas/models/faster_rcnn_inception_v2_coco_2018_01_28/kitti/IR/FP32 \\\n",
    "    -s /scratch/tfg-adas/datasets/kitti/voc_converted/ \\\n",
    "    -a /scratch/tfg-adas/datasets/kitti/openvino_annotations/ \\\n",
    "    -tf dlsdk \\\n",
    "    -tt FP32 \\\n",
    "    -td GPU "
   ]
  },
  {
   "cell_type": "markdown",
   "metadata": {},
   "source": [
    "### Inferencia de la red entrenada en KITTI ejecutada en GPU FP16"
   ]
  },
  {
   "cell_type": "code",
   "execution_count": null,
   "metadata": {},
   "outputs": [],
   "source": [
    "! python3 ~/intel/openvino2020/deployment_tools/tools/accuracy_checker_tool/accuracy_check.py \\\n",
    "    -c /scratch/tfg-adas/models/faster_rcnn_inception_v2_coco_2018_01_28/configs/faster_rcnn_inception_v2_coco.yml \\\n",
    "    -m /scratch/tfg-adas/models/faster_rcnn_inception_v2_coco_2018_01_28/kitti/IR/FP16 \\\n",
    "    -s /scratch/tfg-adas/datasets/kitti/voc_converted/ \\\n",
    "    -a /scratch/tfg-adas/datasets/kitti/openvino_annotations/ \\\n",
    "    -tf dlsdk \\\n",
    "    -tt FP16 \\\n",
    "    -td GPU "
   ]
  },
  {
   "cell_type": "markdown",
   "metadata": {},
   "source": [
    "### Inferencia de la red entrenada en KITTI ejecutada en MYRIAD FP32"
   ]
  },
  {
   "cell_type": "code",
   "execution_count": null,
   "metadata": {},
   "outputs": [],
   "source": [
    "! python3 ~/intel/openvino2020/deployment_tools/tools/accuracy_checker_tool/accuracy_check.py \\\n",
    "    -c /scratch/tfg-adas/models/faster_rcnn_inception_v2_coco_2018_01_28/configs/faster_rcnn_inception_v2_coco.yml \\\n",
    "    -m /scratch/tfg-adas/models/faster_rcnn_inception_v2_coco_2018_01_28/kitti/IR/FP32 \\\n",
    "    -s /scratch/tfg-adas/datasets/kitti/voc_converted/ \\\n",
    "    -a /scratch/tfg-adas/datasets/kitti/openvino_annotations/ \\\n",
    "    -tf dlsdk \\\n",
    "    -tt FP32 \\\n",
    "    -td MYRIAD "
   ]
  },
  {
   "cell_type": "markdown",
   "metadata": {},
   "source": [
    "### Inferencia de la red entrenada en KITTI ejecutada en MYRIAD FP16"
   ]
  },
  {
   "cell_type": "code",
   "execution_count": null,
   "metadata": {},
   "outputs": [],
   "source": [
    "python3 ~/intel/openvino2020/deployment_tools/tools/accuracy_checker_tool/accuracy_check.py \\\n",
    "    -c /scratch/tfg-adas/models/faster_rcnn_inception_v2_coco_2018_01_28/configs/faster_rcnn_inception_v2_coco.yml \\\n",
    "    -m /scratch/tfg-adas/models/faster_rcnn_inception_v2_coco_2018_01_28/kitti/IR/FP16 \\\n",
    "    -s /scratch/tfg-adas/datasets/kitti/voc_converted/ \\\n",
    "    -a /scratch/tfg-adas/datasets/kitti/openvino_annotations/ \\\n",
    "    -tf dlsdk \\\n",
    "    -tt FP16 \\\n",
    "    -td MYRIAD"
   ]
  },
  {
   "cell_type": "markdown",
   "metadata": {},
   "source": [
    "### Convertir Red entrenada en ALLDATASET a formato Openvino IR FP32"
   ]
  },
  {
   "cell_type": "code",
   "execution_count": null,
   "metadata": {},
   "outputs": [],
   "source": [
    "! python3 ~/intel/openvino2020/deployment_tools/model_optimizer/mo_tf.py \\\n",
    "    --input_model /scratch/tfg-adas/models/faster_rcnn_inception_v2_coco_2018_01_28/alldataset/frozen_inference_graph.pb \\\n",
    "    --transformations_config ~/intel/openvino/deployment_tools/model_optimizer/extensions/front/tf/faster_rcnn_support_api_v1.14.json  \\\n",
    "    --tensorflow_object_detection_api_pipeline_config /scratch/tfg-adas/models/faster_rcnn_inception_v2_coco_2018_01_28/alldataset/pipeline.config \\\n",
    "    --output_dir /scratch/tfg-adas/models/faster_rcnn_inception_v2_coco_2018_01_28/alldataset/IR/FP32 \\\n",
    "    --model_name faster_rcnn_inception_v2_coco \\\n",
    "    --data_type FP32 \\\n",
    "    --input image_tensor \\\n",
    "    --reverse_input_channels \\\n",
    "    --input_shape [1,600,1024,3] "
   ]
  },
  {
   "cell_type": "markdown",
   "metadata": {},
   "source": [
    "### Convertir Red entrenada en ALLDATASET a formato Openvino IR FP16"
   ]
  },
  {
   "cell_type": "code",
   "execution_count": null,
   "metadata": {},
   "outputs": [],
   "source": [
    "! python3 ~/intel/openvino2020/deployment_tools/model_optimizer/mo_tf.py \\\n",
    "    --input_model /scratch/tfg-adas/models/faster_rcnn_inception_v2_coco_2018_01_28/alldataset/frozen_inference_graph.pb \\\n",
    "    --transformations_config ~/intel/openvino/deployment_tools/model_optimizer/extensions/front/tf/faster_rcnn_support_api_v1.14.json  \\\n",
    "    --tensorflow_object_detection_api_pipeline_config /scratch/tfg-adas/models/faster_rcnn_inception_v2_coco_2018_01_28/alldataset/pipeline.config \\\n",
    "    --output_dir /scratch/tfg-adas/models/faster_rcnn_inception_v2_coco_2018_01_28/alldataset/IR/FP16 \\\n",
    "    --model_name faster_rcnn_inception_v2_coco \\\n",
    "    --data_type FP16 \\\n",
    "    --input image_tensor \\\n",
    "    --reverse_input_channels \\\n",
    "    --input_shape [1,600,1024,3] "
   ]
  },
  {
   "cell_type": "markdown",
   "metadata": {},
   "source": [
    "### Inferencia de la red entrenada en ALLDATSET ejecutada en CPU FP32"
   ]
  },
  {
   "cell_type": "code",
   "execution_count": null,
   "metadata": {},
   "outputs": [],
   "source": [
    "! python3 ~/intel/openvino2020/deployment_tools/tools/accuracy_checker_tool/accuracy_check.py \\\n",
    "    -c /scratch/tfg-adas/models/faster_rcnn_inception_v2_coco_2018_01_28/configs/faster_rcnn_inception_v2_coco.yml \\\n",
    "    -m /scratch/tfg-adas/models/faster_rcnn_inception_v2_coco_2018_01_28/alldataset/IR/FP32 \\\n",
    "    -s /scratch/tfg-adas/datasets/kitti/voc_converted/ \\\n",
    "    -a /scratch/tfg-adas/datasets/kitti/openvino_annotations/ \\\n",
    "    -tf dlsdk \\\n",
    "    -tt FP32 \\\n",
    "    -td CPU "
   ]
  },
  {
   "cell_type": "markdown",
   "metadata": {},
   "source": [
    "### Inferencia de la red entrenada en ALLDATSET ejecutada en CPU FP16"
   ]
  },
  {
   "cell_type": "code",
   "execution_count": null,
   "metadata": {},
   "outputs": [],
   "source": [
    "! python3 ~/intel/openvino2020/deployment_tools/tools/accuracy_checker_tool/accuracy_check.py \\\n",
    "    -c /scratch/tfg-adas/models/faster_rcnn_inception_v2_coco_2018_01_28/configs/faster_rcnn_inception_v2_coco.yml \\\n",
    "    -m /scratch/tfg-adas/models/faster_rcnn_inception_v2_coco_2018_01_28/alldataset/IR/FP16 \\\n",
    "    -s /scratch/tfg-adas/datasets/kitti/voc_converted/ \\\n",
    "    -a /scratch/tfg-adas/datasets/kitti/openvino_annotations/ \\\n",
    "    -tf dlsdk \\\n",
    "    -tt FP16 \\\n",
    "    -td CPU "
   ]
  },
  {
   "cell_type": "markdown",
   "metadata": {},
   "source": [
    "### Inferencia de la red entrenada en ALLDATSET ejecutada en MYRIAD FP32"
   ]
  },
  {
   "cell_type": "code",
   "execution_count": null,
   "metadata": {},
   "outputs": [],
   "source": [
    "! python3 ~/intel/openvino2020/deployment_tools/tools/accuracy_checker_tool/accuracy_check.py \\\n",
    "    -c /scratch/tfg-adas/models/faster_rcnn_inception_v2_coco_2018_01_28/configs/faster_rcnn_inception_v2_coco.yml \\\n",
    "    -m /scratch/tfg-adas/models/faster_rcnn_inception_v2_coco_2018_01_28/alldataset/IR/FP32 \\\n",
    "    -s /scratch/tfg-adas/datasets/kitti/voc_converted/ \\\n",
    "    -a /scratch/tfg-adas/datasets/kitti/openvino_annotations/ \\\n",
    "    -tf dlsdk \\\n",
    "    -tt FP32 \\\n",
    "    -td MYRIAD "
   ]
  },
  {
   "cell_type": "markdown",
   "metadata": {},
   "source": [
    "### Inferencia de la red entrenada en ALLDATSET ejecutada en MYRIAD FP16"
   ]
  },
  {
   "cell_type": "code",
   "execution_count": null,
   "metadata": {},
   "outputs": [],
   "source": [
    "! python3 ~/intel/openvino2020/deployment_tools/tools/accuracy_checker_tool/accuracy_check.py \\\n",
    "    -c /scratch/tfg-adas/models/faster_rcnn_inception_v2_coco_2018_01_28/configs/faster_rcnn_inception_v2_coco.yml \\\n",
    "    -m /scratch/tfg-adas/models/faster_rcnn_inception_v2_coco_2018_01_28/alldataset/IR/FP16 \\\n",
    "    -s /scratch/tfg-adas/datasets/kitti/voc_converted/ \\\n",
    "    -a /scratch/tfg-adas/datasets/kitti/openvino_annotations/ \\\n",
    "    -tf dlsdk \\\n",
    "    -tt FP16 \\\n",
    "    -td MYRIAD "
   ]
  }
 ],
 "metadata": {
  "kernelspec": {
   "display_name": "Python 3",
   "language": "python",
   "name": "python3"
  },
  "language_info": {
   "codemirror_mode": {
    "name": "ipython",
    "version": 3
   },
   "file_extension": ".py",
   "mimetype": "text/x-python",
   "name": "python",
   "nbconvert_exporter": "python",
   "pygments_lexer": "ipython3",
   "version": "3.6.5"
  }
 },
 "nbformat": 4,
 "nbformat_minor": 2
}
