{
 "cells": [
  {
   "cell_type": "markdown",
   "metadata": {},
   "source": [
    "# Lista de Órdenes SSD Mobile Lite Inception V2"
   ]
  },
  {
   "cell_type": "markdown",
   "metadata": {},
   "source": [
    "### Variables de entrenamiento\n",
    "1. **Archivos de configuración**\n",
    "    + PIPELINE_CONFIG_PATH_KITTI=/scratch/tfg-adas/models/ssdlite_mobilenet_v2_coco_2018_05_09/configs/pipeline_kitti_all_classes.config\n",
    "    + PIPELINE_CONFIG_PATH_ALL=/scratch/tfg-adas/models/ssdlite_mobilenet_v2_coco_2018_05_09/configs/pipeline_final_dataset.config\n",
    "\n",
    "2. **Directorio del modelo**\n",
    "    + MODEL_DIR_KITTI=/scratch/tfg-adas/models/ssdlite_mobilenet_v2_coco_2018_05_09/kitti_finetuned\n",
    "    + MODEL_DIR_ALL=/scratch/tfg-adas/models/ssdlite_mobilenet_v2_coco_2018_05_09/final_dataset_finetuned\n",
    "\n",
    "3. **Especificaciones de entrenamiento**\n",
    "    + NUM_TRAIN_STEPS=200000\n",
    "    + SAMPLE_1_OF_N_EVAL_EXAMPLES=1\n",
    "\n",
    "### Variables de exportacion de la red\n",
    "1. **Archivos de configuración**\n",
    "    + PIPELINE_CONFIG_PATH_KITTI=/scratch/tfg-adas/models/ssdlite_mobilenet_v2_coco_2018_05_09/configs/pipeline_kitti_all_classes.config\n",
    "    + PIPELINE_CONFIG_PATH_ALL=/scratch/tfg-adas/models/ssdlite_mobilenet_v2_coco_2018_05_09/configs/pipeline_final_dataset.config\n",
    "    \n",
    "2. **Directorio de exportación**\n",
    "    + EXPORT_DIR_KITTI=/scratch/tfg-adas/models/ssdlite_mobilenet_v2_coco_2018_05_09/kitti_finetuned\n",
    "    + EXPORT_DIR_ALL=/scratch/tfg-adas/models/ssdlite_mobilenet_v2_coco_2018_05_09/final_dataset_finetuned\n",
    "\n",
    "3. **Opciones de exportacion**\n",
    "    + LAST_CHECKPOINT_KITTI=200300\n",
    "    + LAST_CHECKPOINT_ALL=123143\n",
    "    + INPUT_TYPE=image_tensor\n",
    "\n",
    "4. **Directorio del modelo**\n",
    "    + TRAINED_CKPT_PREFIX_KITTI=/scratch/tfg-adas/models/ssdlite_mobilenet_v2_coco_2018_05_09/kitti_finetuned/kitti_reentrenamiento/model.ckpt-\\${LAST_CHECKPOINT}\n",
    "    + TRAINED_CKPT_PREFIX_ALL=/scratch/tfg-adas/models/ssdlite_mobilenet_v2_coco_2018_05_09/final_dataset_finetuned/model.ckpt-\\${LAST_CHECKPOINT}\n",
    "\n",
    "\n",
    "        \n",
    "\n"
   ]
  },
  {
   "cell_type": "code",
   "execution_count": null,
   "metadata": {},
   "outputs": [],
   "source": [
    "! PIPELINE_CONFIG_PATH_KITTI=/scratch/tfg-adas/models/ssdlite_mobilenet_v2_coco_2018_05_09/configs/pipeline_kitti_all_classes.config\n",
    "! PIPELINE_CONFIG_PATH_ALL=/scratch/tfg-adas/models/ssdlite_mobilenet_v2_coco_2018_05_09/configs/pipeline_final_dataset.config\n",
    "\n",
    "! MODEL_DIR_KITTI=/scratch/tfg-adas/models/ssdlite_mobilenet_v2_coco_2018_05_09/kitti_finetuned\n",
    "! MODEL_DIR_ALL=/scratch/tfg-adas/models/ssdlite_mobilenet_v2_coco_2018_05_09/final_dataset_finetuned\n",
    "\n",
    "! NUM_TRAIN_STEPS=200000\n",
    "! SAMPLE_1_OF_N_EVAL_EXAMPLES=1\n",
    "\n",
    "! INPUT_TYPE=image_tensor\n",
    "\n",
    "! LAST_CHECKPOINT_KITTI=200300\n",
    "! LAST_CHECKPOINT_ALL=123143\n",
    "\n",
    "! TRAINED_CKPT_PREFIX_KITTI=/scratch/tfg-adas/models/ssdlite_mobilenet_v2_coco_2018_05_09/kitti_finetuned/kitti_reentrenamiento/model.ckpt-${LAST_CHECKPOINT}\n",
    "! TRAINED_CKPT_PREFIX_ALL=/scratch/tfg-adas/models/ssdlite_mobilenet_v2_coco_2018_05_09/final_dataset_finetuned/model.ckpt-${LAST_CHECKPOINT}\n",
    "\n",
    "! EXPORT_DIR_KITTI=/scratch/tfg-adas/models/ssdlite_mobilenet_v2_coco_2018_05_09/kitti_finetuned\n",
    "! EXPORT_DIR_ALL=/scratch/tfg-adas/models/ssdlite_mobilenet_v2_coco_2018_05_09/final_dataset_finetuned\n",
    "\n",
    "\n",
    "\n"
   ]
  },
  {
   "cell_type": "markdown",
   "metadata": {},
   "source": [
    "### Fase de Entrenamiento KITTI"
   ]
  },
  {
   "cell_type": "code",
   "execution_count": null,
   "metadata": {},
   "outputs": [],
   "source": [
    "! python3 /scratch/tfg-adas/tensorflow/models/research/object_detection/model_main.py \\\n",
    "    --pipeline_config_path=${PIPELINE_CONFIG_PATH_KITTI} \\\n",
    "    --model_dir=${MODEL_DIR_KITTI} \\\n",
    "    --num_train_steps=${NUM_TRAIN_STEPS} \\\n",
    "    --sample_1_of_n_eval_examples=$SAMPLE_1_OF_N_EVAL_EXAMPLES \\\n",
    "    --alsologtostderr"
   ]
  },
  {
   "cell_type": "markdown",
   "metadata": {},
   "source": [
    "### Fase de Entrenamiento ALLDATASET"
   ]
  },
  {
   "cell_type": "code",
   "execution_count": null,
   "metadata": {},
   "outputs": [],
   "source": [
    "! python3 /scratch/tfg-adas/tensorflow/models/research/object_detection/model_main.py \\\n",
    "    --pipeline_config_path=${PIPELINE_CONFIG_PATH_ALL} \\\n",
    "    --model_dir=${MODEL_DIR_ALL} \\\n",
    "    --num_train_steps=${NUM_TRAIN_STEPS} \\\n",
    "    --sample_1_of_n_eval_examples=${SAMPLE_1_OF_N_EVAL_EXAMPLES} \\\n",
    "    --alsologtostderr"
   ]
  },
  {
   "cell_type": "markdown",
   "metadata": {},
   "source": [
    "### Exportar Red KITTI"
   ]
  },
  {
   "cell_type": "code",
   "execution_count": null,
   "metadata": {},
   "outputs": [],
   "source": [
    "! python3 /scratch/tfg-adas/tensorflow/models/research/object_detection/export_inference_graph.py \\\n",
    "    --input_type=${INPUT_TYPE} \\\n",
    "    --pipeline_config_path=${PIPELINE_CONFIG_PATH_KITTI} \\\n",
    "    --trained_checkpoint_prefix=${TRAINED_CKPT_PREFIX_KITTI} \\\n",
    "    --output_directory=${EXPORT_DIR_KITTI}"
   ]
  },
  {
   "cell_type": "markdown",
   "metadata": {},
   "source": [
    "### Exportar Red ALLDATASET"
   ]
  },
  {
   "cell_type": "code",
   "execution_count": null,
   "metadata": {},
   "outputs": [],
   "source": [
    "! python3 /scratch/tfg-adas/tensorflow/models/research/object_detection/export_inference_graph.py \\\n",
    "    --input_type=${INPUT_TYPE} \\\n",
    "    --pipeline_config_path=${PIPELINE_CONFIG_PATH_ALL} \\\n",
    "    --trained_checkpoint_prefix=${TRAINED_CKPT_PREFIX_ALL} \\\n",
    "    --output_directory=${EXPORT_DIR_ALL}"
   ]
  },
  {
   "cell_type": "markdown",
   "metadata": {},
   "source": [
    "### Convertir Red sobre KITTI a formato IR Openvino FP32"
   ]
  },
  {
   "cell_type": "code",
   "execution_count": null,
   "metadata": {},
   "outputs": [],
   "source": [
    "python3 ~/intel/openvino2020/deployment_tools/model_optimizer/mo_tf.py \\\n",
    "    --input_model /scratch/tfg-adas/models/ssdlite_mobilenet_v2_coco_2018_05_09/kitti_finetuned/frozen_inference_graph.pb \\\n",
    "    --transformations_config ~/intel/openvino/deployment_tools/model_optimizer/extensions/front/tf/ssd_v2_support.json  \\\n",
    "    --tensorflow_object_detection_api_pipeline_config /scratch/tfg-adas/models/ssdlite_mobilenet_v2_coco_2018_05_09/configs/pipeline_kitti_all_classes.config \\\n",
    "    --output_dir /scratch/tfg-adas/models/ssdlite_mobilenet_v2_coco_2018_05_09/kitti_finetuned/IR \\\n",
    "    --model_name ssdlite_mobilenet_v2_FP32 \\\n",
    "    --data_type FP32 \\\n",
    "    --reverse_input_channels \\\n",
    "    --input image_tensor"
   ]
  },
  {
   "cell_type": "markdown",
   "metadata": {},
   "source": [
    "### Convertir Red sobre KITTI a formato IR Openvino FP16"
   ]
  },
  {
   "cell_type": "code",
   "execution_count": null,
   "metadata": {},
   "outputs": [],
   "source": [
    "! python3 ~/intel/openvino2020/deployment_tools/model_optimizer/mo_tf.py \\\n",
    "    --input_model /scratch/tfg-adas/models/ssdlite_mobilenet_v2_coco_2018_05_09/kitti_finetuned/frozen_inference_graph.pb \\\n",
    "    --transformations_config ~/intel/openvino/deployment_tools/model_optimizer/extensions/front/tf/ssd_v2_support.json  \\\n",
    "    --tensorflow_object_detection_api_pipeline_config /scratch/tfg-adas/models/ssdlite_mobilenet_v2_coco_2018_05_09/configs/pipeline_kitti_all_classes.config \\\n",
    "    --output_dir /scratch/tfg-adas/models/ssdlite_mobilenet_v2_coco_2018_05_09/kitti_finetuned/IR \\\n",
    "    --model_name ssdlite_mobilenet_v2_FP16 \\\n",
    "    --data_type FP16 \\\n",
    "    --reverse_input_channels \\\n",
    "    --input image_tensor\n"
   ]
  },
  {
   "cell_type": "markdown",
   "metadata": {},
   "source": [
    "### Inferencia de la red entrenada en KITTI ejecutada en CPU FP32"
   ]
  },
  {
   "cell_type": "code",
   "execution_count": null,
   "metadata": {},
   "outputs": [],
   "source": [
    "! python3 ~/intel/openvino2020/deployment_tools/tools/accuracy_checker_tool/accuracy_check.py \\\n",
    "    -c /scratch/tfg-adas/models/ssdlite_mobilenet_v2_coco_2018_05_09/configs/ssdlite_mobilenet_v2_test_FP32.yml \\\n",
    "    -m /scratch/tfg-adas/models/ssdlite_mobilenet_v2_coco_2018_05_09/kitti_finetuned/IR/ \\\n",
    "    -s /scratch/tfg-adas/datasets/kitti/voc_converted/ \\\n",
    "    -a /scratch/tfg-adas/datasets/kitti/openvino_annotations/ \\\n",
    "    -tf dlsdk \\\n",
    "    -td CPU"
   ]
  },
  {
   "cell_type": "markdown",
   "metadata": {},
   "source": [
    "### Inferencia de la red entrenada en KITTI ejecutada en CPU FP16"
   ]
  },
  {
   "cell_type": "code",
   "execution_count": null,
   "metadata": {},
   "outputs": [],
   "source": [
    "! python3 ~/intel/openvino2020/deployment_tools/tools/accuracy_checker_tool/accuracy_check.py \\\n",
    "    -c /scratch/tfg-adas/models/ssdlite_mobilenet_v2_coco_2018_05_09/configs/ssdlite_mobilenet_v2_test_FP16.yml \\\n",
    "    -m /scratch/tfg-adas/models/ssdlite_mobilenet_v2_coco_2018_05_09/kitti_finetuned/IR/ \\\n",
    "    -s /scratch/tfg-adas/datasets/kitti/voc_converted/ \\\n",
    "    -a /scratch/tfg-adas/datasets/kitti/openvino_annotations/ \\\n",
    "    -tf dlsdk \\\n",
    "    -td CPU "
   ]
  },
  {
   "cell_type": "markdown",
   "metadata": {},
   "source": [
    "### Inferencia de la red entrenada en KITTI ejecutada en MYRIAD FP32"
   ]
  },
  {
   "cell_type": "code",
   "execution_count": null,
   "metadata": {},
   "outputs": [],
   "source": [
    "! python3 ~/intel/openvino2020/deployment_tools/tools/accuracy_checker_tool/accuracy_check.py \\\n",
    "    -c /scratch/tfg-adas/models/ssdlite_mobilenet_v2_coco_2018_05_09/configs/ssdlite_mobilenet_v2_test_FP32.yml \\\n",
    "    -m /scratch/tfg-adas/models/ssdlite_mobilenet_v2_coco_2018_05_09/kitti_finetuned/IR/ \\\n",
    "    -s /scratch/tfg-adas/datasets/kitti/voc_converted/ \\\n",
    "    -a /scratch/tfg-adas/datasets/kitti/openvino_annotations/ \\\n",
    "    -tf dlsdk \\\n",
    "    -td MYRIAD"
   ]
  },
  {
   "cell_type": "markdown",
   "metadata": {},
   "source": [
    "### Inferencia de la red entrenada en KITTI ejecutada en MYRIAD FP16"
   ]
  },
  {
   "cell_type": "code",
   "execution_count": null,
   "metadata": {},
   "outputs": [],
   "source": [
    "! python3 ~/intel/openvino2020/deployment_tools/tools/accuracy_checker_tool/accuracy_check.py \\\n",
    "    -c /scratch/tfg-adas/models/ssdlite_mobilenet_v2_coco_2018_05_09/configs/ssdlite_mobilenet_v2_test_FP16.yml \\\n",
    "    -m /scratch/tfg-adas/models/ssdlite_mobilenet_v2_coco_2018_05_09/kitti_finetuned/IR/ \\\n",
    "    -s /scratch/tfg-adas/datasets/kitti/voc_converted/ \\\n",
    "    -a /scratch/tfg-adas/datasets/kitti/openvino_annotations/ \\\n",
    "    -tf dlsdk \\\n",
    "    -td MYRIAD "
   ]
  },
  {
   "cell_type": "markdown",
   "metadata": {},
   "source": [
    "### Convertir Red sobre ALLDATASET a formato IR Openvino FP32"
   ]
  },
  {
   "cell_type": "code",
   "execution_count": null,
   "metadata": {},
   "outputs": [],
   "source": [
    "! python3 ~/intel/openvino2020/deployment_tools/model_optimizer/mo_tf.py \\\n",
    "    --input_model /scratch/tfg-adas/models/ssdlite_mobilenet_v2_coco_2018_05_09/final_dataset_finetuned/frozen_inference_graph.pb \\\n",
    "    --transformations_config ~/intel/openvino/deployment_tools/model_optimizer/extensions/front/tf/ssd_v2_support.json  \\\n",
    "    --tensorflow_object_detection_api_pipeline_config /scratch/tfg-adas/models/ssdlite_mobilenet_v2_coco_2018_05_09/configs/pipeline_final_dataset.config \\\n",
    "    --output_dir /scratch/tfg-adas/models/ssdlite_mobilenet_v2_coco_2018_05_09/final_dataset_finetuned/IR \\\n",
    "    --model_name ssdlite_mobilenet_v2_FP32 \\\n",
    "    --data_type FP32 \\\n",
    "    --reverse_input_channels \\\n",
    "    --input image_tensor"
   ]
  },
  {
   "cell_type": "markdown",
   "metadata": {},
   "source": [
    "### Convertir Red sobre ALLDATASET a formato IR Openvino FP16"
   ]
  },
  {
   "cell_type": "code",
   "execution_count": null,
   "metadata": {},
   "outputs": [],
   "source": [
    "! python3 ~/intel/openvino2020/deployment_tools/model_optimizer/mo_tf.py \\\n",
    "    --input_model /scratch/tfg-adas/models/ssdlite_mobilenet_v2_coco_2018_05_09/final_dataset_finetuned/frozen_inference_graph.pb \\\n",
    "    --transformations_config ~/intel/openvino/deployment_tools/model_optimizer/extensions/front/tf/ssd_v2_support.json  \\\n",
    "    --tensorflow_object_detection_api_pipeline_config /scratch/tfg-adas/models/ssdlite_mobilenet_v2_coco_2018_05_09/configs/pipeline_final_dataset.config \\\n",
    "    --output_dir /scratch/tfg-adas/models/ssdlite_mobilenet_v2_coco_2018_05_09/final_dataset_finetuned/IR \\\n",
    "    --model_name ssdlite_mobilenet_v2_FP16 \\\n",
    "    --data_type FP16 \\\n",
    "    --reverse_input_channels \\\n",
    "    --input image_tensor"
   ]
  },
  {
   "cell_type": "markdown",
   "metadata": {},
   "source": [
    "### Inferencia de la red entrenada en ALLDATASET ejecutada en CPU FP32"
   ]
  },
  {
   "cell_type": "code",
   "execution_count": null,
   "metadata": {},
   "outputs": [],
   "source": [
    "! python3 ~/intel/openvino2020/deployment_tools/tools/accuracy_checker_tool/accuracy_check.py \\\n",
    "    -c /scratch/tfg-adas/models/ssdlite_mobilenet_v2_coco_2018_05_09/configs/ssdlite_mobilenet_v2_test_FP32.yml \\\n",
    "    -m /scratch/tfg-adas/models/ssdlite_mobilenet_v2_coco_2018_05_09/final_dataset_finetuned/IR/ \\\n",
    "    -s /scratch/tfg-adas/datasets/kitti/voc_converted/ \\\n",
    "    -a /scratch/tfg-adas/datasets/kitti/openvino_annotations/ \\\n",
    "    -tf dlsdk \\\n",
    "    -td CPU"
   ]
  },
  {
   "cell_type": "markdown",
   "metadata": {},
   "source": [
    "### Inferencia de la red entrenada en ALLDATASET ejecutada en CPU FP16"
   ]
  },
  {
   "cell_type": "code",
   "execution_count": null,
   "metadata": {},
   "outputs": [],
   "source": [
    "! python3 ~/intel/openvino2020/deployment_tools/tools/accuracy_checker_tool/accuracy_check.py \\\n",
    "    -c /scratch/tfg-adas/models/ssdlite_mobilenet_v2_coco_2018_05_09/configs/ssdlite_mobilenet_v2_test_FP16.yml \\\n",
    "    -m /scratch/tfg-adas/models/ssdlite_mobilenet_v2_coco_2018_05_09/final_dataset_finetuned/IR/ \\\n",
    "    -s /scratch/tfg-adas/datasets/kitti/voc_converted/ \\\n",
    "    -a /scratch/tfg-adas/datasets/kitti/openvino_annotations/ \\\n",
    "    -tf dlsdk \\\n",
    "    -td CPU "
   ]
  },
  {
   "cell_type": "markdown",
   "metadata": {},
   "source": [
    "### Inferencia de la red entrenada en ALLDATASET ejecutada en MYRIAD FP32"
   ]
  },
  {
   "cell_type": "code",
   "execution_count": null,
   "metadata": {},
   "outputs": [],
   "source": [
    "! python3 ~/intel/openvino2020/deployment_tools/tools/accuracy_checker_tool/accuracy_check.py \\\n",
    "    -c /scratch/tfg-adas/models/ssdlite_mobilenet_v2_coco_2018_05_09/configs/ssdlite_mobilenet_v2_test_FP32.yml \\\n",
    "    -m /scratch/tfg-adas/models/ssdlite_mobilenet_v2_coco_2018_05_09/final_dataset_finetuned/IR/ \\\n",
    "    -s /scratch/tfg-adas/datasets/kitti/voc_converted/ \\\n",
    "    -a /scratch/tfg-adas/datasets/kitti/openvino_annotations/ \\\n",
    "    -tf dlsdk \\\n",
    "    -td MYRIAD"
   ]
  },
  {
   "cell_type": "markdown",
   "metadata": {},
   "source": [
    "### Inferencia de la red entrenada en ALLDATASET ejecutada en MYRIAD FP16"
   ]
  },
  {
   "cell_type": "code",
   "execution_count": null,
   "metadata": {},
   "outputs": [],
   "source": [
    "! python3 ~/intel/openvino2020/deployment_tools/tools/accuracy_checker_tool/accuracy_check.py \\\n",
    "    -c /scratch/tfg-adas/models/ssdlite_mobilenet_v2_coco_2018_05_09/configs/ssdlite_mobilenet_v2_test_FP16.yml \\\n",
    "    -m /scratch/tfg-adas/models/ssdlite_mobilenet_v2_coco_2018_05_09/final_dataset_finetuned/IR/ \\\n",
    "    -s /scratch/tfg-adas/datasets/kitti/voc_converted/ \\\n",
    "    -a /scratch/tfg-adas/datasets/kitti/openvino_annotations/ \\\n",
    "    -tf dlsdk \\\n",
    "    -td MYRIAD "
   ]
  }
 ],
 "metadata": {
  "kernelspec": {
   "display_name": "Python 3",
   "language": "python",
   "name": "python3"
  },
  "language_info": {
   "codemirror_mode": {
    "name": "ipython",
    "version": 3
   },
   "file_extension": ".py",
   "mimetype": "text/x-python",
   "name": "python",
   "nbconvert_exporter": "python",
   "pygments_lexer": "ipython3",
   "version": "3.6.5"
  }
 },
 "nbformat": 4,
 "nbformat_minor": 2
}
