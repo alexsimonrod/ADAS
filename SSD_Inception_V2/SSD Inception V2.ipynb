{
 "cells": [
  {
   "cell_type": "markdown",
   "metadata": {},
   "source": [
    "# Lista de Órdenes SSD Inception V2"
   ]
  },
  {
   "cell_type": "markdown",
   "metadata": {},
   "source": [
    "### Variables de entrenamiento\n",
    "1. **Archivos de configuración**\n",
    "    + PIPELINE_CONFIG_PATH_KITTI=/scratch/tfg-adas/models/ssd_inception_v2_coco_2018_01_28/configs/ssd_kitti.config\n",
    "    + PIPELINE_CONFIG_PATH_ALL=/scratch/tfg-adas/models/ssd_inception_v2_coco_2018_01_28/configs/ssd_alldataset.config\n",
    "2. **Directorio del modelo**\n",
    "    + MODEL_DIR_KITTI=/scratch/tfg-adas/models/ssd_inception_v2_coco_2018_01_28/kitti/\n",
    "    + MODEL_DIR_ALL=/scratch/tfg-adas/models/ssd_inception_v2_coco_2018_01_28/alldataset/\n",
    "\n",
    "3. **Especificaciones de entrenamiento**\n",
    "    + NUM_TRAIN_STEPS=200000\n",
    "    + SAMPLE_1_OF_N_EVAL_EXAMPLES=1\n",
    "\n",
    "### Variables de exportacion de la red\n",
    "1. **Archivos de configuración**\n",
    "    + PIPELINE_CONFIG_PATH_KITTI=/scratch/tfg-adas/models/ssd_inception_v2_coco_2018_01_28/configs/ssd_kitti.config\n",
    "    + PIPELINE_CONFIG_PATH_ALL=/scratch/tfg-adas/models/ssd_inception_v2_coco_2018_01_28/configs/ssd_alldataset.config\n",
    "    \n",
    "2. **Directorio de exportación**\n",
    "    + EXPORT_DIR_KITTI=/scratch/tfg-adas/models/ssd_inception_v2_coco_2018_01_28/kitti\n",
    "    + EXPORT_DIR_ALL=/scratch/tfg-adas/models/ssd_inception_v2_coco_2018_01_28/alldataset\n",
    "\n",
    "3. **Opciones de exportacion**\n",
    "    + LAST_CHECKPOINT=200000\n",
    "    + INPUT_TYPE=image_tensor\n",
    "\n",
    "4. **Directorio del modelo**\n",
    "    + TRAINED_CKPT_PREFIX_KITTI=/scratch/tfg-adas/models/ssd_inception_v2_coco_2018_01_28/kitti/model.ckpt-\\${LAST_CHECKPOINT}\n",
    "    + TRAINED_CKPT_PREFIX_ALL=/scratch/tfg-adas/models/ssd_inception_v2_coco_2018_01_28/alldataset/model.ckpt-\\${LAST_CHECKPOINT}\n",
    "\n",
    "\n",
    "        \n",
    "\n"
   ]
  },
  {
   "cell_type": "code",
   "execution_count": null,
   "metadata": {},
   "outputs": [],
   "source": [
    "! PIPELINE_CONFIG_PATH_KITTI=/scratch/tfg-adas/models/ssd_inception_v2_coco_2018_01_28/configs/ssd_kitti.config\n",
    "! PIPELINE_CONFIG_PATH_ALL=/scratch/tfg-adas/models/ssd_inception_v2_coco_2018_01_28/configs/ssd_alldataset.config\n",
    "! MODEL_DIR_KITTI=/scratch/tfg-adas/models/ssd_inception_v2_coco_2018_01_28/kitti/\n",
    "! MODEL_DIR_ALL=/scratch/tfg-adas/models/ssd_inception_v2_coco_2018_01_28/alldataset/\n",
    "! NUM_TRAIN_STEPS=200000\n",
    "! SAMPLE_1_OF_N_EVAL_EXAMPLES=10\n",
    "\n",
    "! LAST_CHECKPOINT=200000\n",
    "! INPUT_TYPE=image_tensor\n",
    "\n",
    "! TRAINED_CKPT_PREFIX_KITTI=/scratch/tfg-adas/models/ssd_inception_v2_coco_2018_01_28/kitti/model.ckpt-${LAST_CHECKPOINT}\n",
    "! TRAINED_CKPT_PREFIX_ALL=/scratch/tfg-adas/models/ssd_inception_v2_coco_2018_01_28/alldataset/model.ckpt-${LAST_CHECKPOINT}\n",
    "! EXPORT_DIR_KITTI=/scratch/tfg-adas/models/ssd_inception_v2_coco_2018_01_28/kitti\n",
    "! EXPORT_DIR_ALL=/scratch/tfg-adas/models/ssd_inception_v2_coco_2018_01_28/alldataset"
   ]
  },
  {
   "cell_type": "markdown",
   "metadata": {},
   "source": [
    "### Fase de Entrenamiento KITTI"
   ]
  },
  {
   "cell_type": "code",
   "execution_count": null,
   "metadata": {},
   "outputs": [],
   "source": [
    "! python3 /scratch/tfg-adas/tensorflow/models/research/object_detection/model_main.py \\\n",
    "    --pipeline_config_path=${PIPELINE_CONFIG_PATH_KITTI} \\\n",
    "    --model_dir=${MODEL_DIR_KITTI} \\\n",
    "    --num_train_steps=${NUM_TRAIN_STEPS} \\\n",
    "    --sample_1_of_n_eval_examples=$SAMPLE_1_OF_N_EVAL_EXAMPLES \\\n",
    "    --alsologtostderr"
   ]
  },
  {
   "cell_type": "markdown",
   "metadata": {},
   "source": [
    "### Fase de Entrenamiento ALLDATASET"
   ]
  },
  {
   "cell_type": "code",
   "execution_count": null,
   "metadata": {},
   "outputs": [],
   "source": [
    "! python3 /scratch/tfg-adas/tensorflow/models/research/object_detection/model_main.py \\\n",
    "    --pipeline_config_path=${PIPELINE_CONFIG_PATH_ALL} \\\n",
    "    --model_dir=${MODEL_DIR_ALL} \\\n",
    "    --num_train_steps=${NUM_TRAIN_STEPS} \\\n",
    "    --sample_1_of_n_eval_examples=$SAMPLE_1_OF_N_EVAL_EXAMPLES \\\n",
    "    --alsologtostderr"
   ]
  },
  {
   "cell_type": "markdown",
   "metadata": {},
   "source": [
    "### Exportar Red KITTI"
   ]
  },
  {
   "cell_type": "code",
   "execution_count": null,
   "metadata": {},
   "outputs": [],
   "source": [
    "! python3 /scratch/tfg-adas/tensorflow/models/research/object_detection/export_inference_graph.py \\\n",
    "    --input_type=${INPUT_TYPE} \\\n",
    "    --pipeline_config_path=${PIPELINE_CONFIG_PATH_KITTI} \\\n",
    "    --trained_checkpoint_prefix=${TRAINED_CKPT_PREFIX_KITTI} \\\n",
    "    --output_directory=${EXPORT_DIR_KITTI}"
   ]
  },
  {
   "cell_type": "markdown",
   "metadata": {},
   "source": [
    "### Exportar Red ALLDATASET"
   ]
  },
  {
   "cell_type": "code",
   "execution_count": null,
   "metadata": {},
   "outputs": [],
   "source": [
    "! python3 /scratch/tfg-adas/tensorflow/models/research/object_detection/export_inference_graph.py \\\n",
    "    --input_type=${INPUT_TYPE} \\\n",
    "    --pipeline_config_path=${PIPELINE_CONFIG_PATH_ALL} \\\n",
    "    --trained_checkpoint_prefix=${TRAINED_CKPT_PREFIX_ALL} \\\n",
    "    --output_directory=${EXPORT_DIR_ALL}"
   ]
  },
  {
   "cell_type": "markdown",
   "metadata": {},
   "source": [
    "### Convertir Red sobre KITTI a formato IR Openvino FP32"
   ]
  },
  {
   "cell_type": "code",
   "execution_count": null,
   "metadata": {},
   "outputs": [],
   "source": [
    "! python3 ~/intel/openvino2020/deployment_tools/model_optimizer/mo_tf.py \\\n",
    "    --input_model /scratch/tfg-adas/models/ssd_inception_v2_coco_2018_01_28/kitti/frozen_inference_graph.pb \\\n",
    "    --transformations_config ~/intel/openvino/deployment_tools/model_optimizer/extensions/front/tf/ssd_v2_support.json  \\\n",
    "    --tensorflow_object_detection_api_pipeline_config /scratch/tfg-adas/models/ssd_inception_v2_coco_2018_01_28/configs/ssd_kitti.config \\\n",
    "    --output_dir /scratch/tfg-adas/models/ssd_inception_v2_coco_2018_01_28/kitti/IR/FP32 \\\n",
    "    --model_name ssd_inception_v2 \\\n",
    "    --data_type FP32 \\\n",
    "    --reverse_input_channels \\\n",
    "    --input image_tensor"
   ]
  },
  {
   "cell_type": "markdown",
   "metadata": {},
   "source": [
    "### Convertir Red sobre KITTI a formato IR Openvino FP16"
   ]
  },
  {
   "cell_type": "code",
   "execution_count": null,
   "metadata": {},
   "outputs": [],
   "source": [
    "! python3 ~/intel/openvino2020/deployment_tools/model_optimizer/mo_tf.py \\\n",
    "    --input_model /scratch/tfg-adas/models/ssd_inception_v2_coco_2018_01_28/kitti/frozen_inference_graph.pb \\\n",
    "    --transformations_config ~/intel/openvino/deployment_tools/model_optimizer/extensions/front/tf/ssd_v2_support.json  \\\n",
    "    --tensorflow_object_detection_api_pipeline_config /scratch/tfg-adas/models/ssd_inception_v2_coco_2018_01_28/configs/ssd_kitti.config \\\n",
    "    --output_dir /scratch/tfg-adas/models/ssd_inception_v2_coco_2018_01_28/kitti/IR/FP16 \\\n",
    "    --model_name ssd_inception_v2 \\\n",
    "    --data_type FP16 \\\n",
    "    --reverse_input_channels \\\n",
    "    --input image_tensor"
   ]
  },
  {
   "cell_type": "markdown",
   "metadata": {},
   "source": [
    "### Inferencia de la red entrenada en KITTI ejecutada en CPU FP32"
   ]
  },
  {
   "cell_type": "code",
   "execution_count": null,
   "metadata": {},
   "outputs": [],
   "source": [
    "! python3 ~/intel/openvino2020/deployment_tools/tools/accuracy_checker_tool/accuracy_check.py \\\n",
    "    -c /scratch/tfg-adas/models/ssd_inception_v2_coco_2018_01_28/configs/ssd_inception_v2.yml \\\n",
    "    -m /scratch/tfg-adas/models/ssd_inception_v2_coco_2018_01_28/kitti/IR/FP32 \\\n",
    "    -s /scratch/tfg-adas/datasets/kitti/voc_converted/ \\\n",
    "    -a /scratch/tfg-adas/datasets/kitti/openvino_annotations/ \\\n",
    "    -tf dlsdk \\\n",
    "    -tt FP32 \\\n",
    "    -td CPU "
   ]
  },
  {
   "cell_type": "markdown",
   "metadata": {},
   "source": [
    "### Inferencia de la red entrenada en KITTI ejecutada en CPU FP16"
   ]
  },
  {
   "cell_type": "code",
   "execution_count": null,
   "metadata": {},
   "outputs": [],
   "source": [
    "! python3 ~/intel/openvino2020/deployment_tools/tools/accuracy_checker_tool/accuracy_check.py \\\n",
    "    -c /scratch/tfg-adas/models/ssd_inception_v2_coco_2018_01_28/configs/ssd_inception_v2.yml \\\n",
    "    -m /scratch/tfg-adas/models/ssd_inception_v2_coco_2018_01_28/kitti/IR/FP16 \\\n",
    "    -s /scratch/tfg-adas/datasets/kitti/voc_converted/ \\\n",
    "    -a /scratch/tfg-adas/datasets/kitti/openvino_annotations/ \\\n",
    "    -tf dlsdk \\\n",
    "    -tt FP16 \\\n",
    "    -td CPU "
   ]
  },
  {
   "cell_type": "markdown",
   "metadata": {},
   "source": [
    "### Inferencia de la red entrenada en KITTI ejecutada en MYRIAD FP32"
   ]
  },
  {
   "cell_type": "code",
   "execution_count": null,
   "metadata": {},
   "outputs": [],
   "source": [
    "! python3 ~/intel/openvino2020/deployment_tools/tools/accuracy_checker_tool/accuracy_check.py \\\n",
    "    -c /scratch/tfg-adas/models/ssd_inception_v2_coco_2018_01_28/configs/ssd_inception_v2.yml \\\n",
    "    -m /scratch/tfg-adas/models/ssd_inception_v2_coco_2018_01_28/kitti/IR/FP32 \\\n",
    "    -s /scratch/tfg-adas/datasets/kitti/voc_converted/ \\\n",
    "    -a /scratch/tfg-adas/datasets/kitti/openvino_annotations/ \\\n",
    "    -tf dlsdk \\\n",
    "    -tt FP32 \\\n",
    "    -td MYRIAD "
   ]
  },
  {
   "cell_type": "markdown",
   "metadata": {},
   "source": [
    "### Inferencia de la red entrenada en KITTI ejecutada en MYRIAD FP16"
   ]
  },
  {
   "cell_type": "code",
   "execution_count": null,
   "metadata": {},
   "outputs": [],
   "source": [
    "! python3 ~/intel/openvino2020/deployment_tools/tools/accuracy_checker_tool/accuracy_check.py \\\n",
    "    -c /scratch/tfg-adas/models/ssd_inception_v2_coco_2018_01_28/configs/ssd_inception_v2.yml \\\n",
    "    -m /scratch/tfg-adas/models/ssd_inception_v2_coco_2018_01_28/kitti/IR/FP16 \\\n",
    "    -s /scratch/tfg-adas/datasets/kitti/voc_converted/ \\\n",
    "    -a /scratch/tfg-adas/datasets/kitti/openvino_annotations/ \\\n",
    "    -tf dlsdk \\\n",
    "    -tt FP16 \\\n",
    "    -td MYRIAD "
   ]
  },
  {
   "cell_type": "markdown",
   "metadata": {},
   "source": [
    "### Convertir Red sobre ALLDATASET a formato IR Openvino FP32"
   ]
  },
  {
   "cell_type": "code",
   "execution_count": null,
   "metadata": {},
   "outputs": [],
   "source": [
    "! python3 ~/intel/openvino2020/deployment_tools/model_optimizer/mo_tf.py \\\n",
    "    --input_model /scratch/tfg-adas/models/ssd_inception_v2_coco_2018_01_28/alldataset/frozen_inference_graph.pb \\\n",
    "    --transformations_config ~/intel/openvino/deployment_tools/model_optimizer/extensions/front/tf/ssd_v2_support.json  \\\n",
    "    --tensorflow_object_detection_api_pipeline_config /scratch/tfg-adas/models/ssd_inception_v2_coco_2018_01_28/configs/ssd_alldataset.config \\\n",
    "    --output_dir /scratch/tfg-adas/models/ssd_inception_v2_coco_2018_01_28/alldataset/IR/FP32 \\\n",
    "    --model_name ssd_inception_v2 \\\n",
    "    --data_type FP32 \\\n",
    "    --reverse_input_channels \\\n",
    "    --input image_tensor"
   ]
  },
  {
   "cell_type": "markdown",
   "metadata": {},
   "source": [
    "### Convertir Red sobre ALLDATASET a formato IR Openvino FP16"
   ]
  },
  {
   "cell_type": "code",
   "execution_count": null,
   "metadata": {},
   "outputs": [],
   "source": [
    "! python3 ~/intel/openvino2020/deployment_tools/model_optimizer/mo_tf.py \\\n",
    "    --input_model /scratch/tfg-adas/models/ssd_inception_v2_coco_2018_01_28/alldataset/frozen_inference_graph.pb \\\n",
    "    --transformations_config ~/intel/openvino/deployment_tools/model_optimizer/extensions/front/tf/ssd_v2_support.json  \\\n",
    "    --tensorflow_object_detection_api_pipeline_config /scratch/tfg-adas/models/ssd_inception_v2_coco_2018_01_28/configs/ssd_alldataset.config \\\n",
    "    --output_dir /scratch/tfg-adas/models/ssd_inception_v2_coco_2018_01_28/alldataset/IR/FP16 \\\n",
    "    --model_name ssd_inception_v2 \\\n",
    "    --data_type FP16 \\\n",
    "    --reverse_input_channels \\\n",
    "    --input image_tensor\n",
    "    "
   ]
  },
  {
   "cell_type": "markdown",
   "metadata": {},
   "source": [
    "### Inferencia de la red entrenada en ALLDATASET ejecutada en CPU FP32"
   ]
  },
  {
   "cell_type": "code",
   "execution_count": null,
   "metadata": {},
   "outputs": [],
   "source": [
    "! python3 ~/intel/openvino2020/deployment_tools/tools/accuracy_checker_tool/accuracy_check.py \\\n",
    "    -c /scratch/tfg-adas/models/ssd_inception_v2_coco_2018_01_28/configs/ssd_inception_v2.yml \\\n",
    "    -m /scratch/tfg-adas/models/ssd_inception_v2_coco_2018_01_28/alldataset/IR/FP32 \\\n",
    "    -s /scratch/tfg-adas/datasets/kitti/voc_converted/ \\\n",
    "    -a /scratch/tfg-adas/datasets/kitti/openvino_annotations/ \\\n",
    "    -tf dlsdk \\\n",
    "    -tt FP32 \\\n",
    "    -td CPU "
   ]
  },
  {
   "cell_type": "markdown",
   "metadata": {},
   "source": [
    "### Inferencia de la red entrenada en ALLDATASET ejecutada en CPU FP16"
   ]
  },
  {
   "cell_type": "code",
   "execution_count": null,
   "metadata": {},
   "outputs": [],
   "source": [
    "! python3 ~/intel/openvino2020/deployment_tools/tools/accuracy_checker_tool/accuracy_check.py \\\n",
    "    -c /scratch/tfg-adas/models/ssd_inception_v2_coco_2018_01_28/configs/ssd_inception_v2.yml \\\n",
    "    -m /scratch/tfg-adas/models/ssd_inception_v2_coco_2018_01_28/alldataset/IR/FP16 \\\n",
    "    -s /scratch/tfg-adas/datasets/kitti/voc_converted/ \\\n",
    "    -a /scratch/tfg-adas/datasets/kitti/openvino_annotations/ \\\n",
    "    -tf dlsdk \\\n",
    "    -tt FP16 \\\n",
    "    -td CPU "
   ]
  },
  {
   "cell_type": "markdown",
   "metadata": {},
   "source": [
    "### Inferencia de la red entrenada en ALLDATASET ejecutada en MYRIAD FP32"
   ]
  },
  {
   "cell_type": "code",
   "execution_count": null,
   "metadata": {},
   "outputs": [],
   "source": [
    "! python3 ~/intel/openvino2020/deployment_tools/tools/accuracy_checker_tool/accuracy_check.py \\\n",
    "    -c /scratch/tfg-adas/models/ssd_inception_v2_coco_2018_01_28/configs/ssd_inception_v2.yml \\\n",
    "    -m /scratch/tfg-adas/models/ssd_inception_v2_coco_2018_01_28/alldataset/IR/FP32 \\\n",
    "    -s /scratch/tfg-adas/datasets/kitti/voc_converted/ \\\n",
    "    -a /scratch/tfg-adas/datasets/kitti/openvino_annotations/ \\\n",
    "    -tf dlsdk \\\n",
    "    -tt FP32 \\\n",
    "    -td MYRIAD "
   ]
  },
  {
   "cell_type": "markdown",
   "metadata": {},
   "source": [
    "### Inferencia de la red entrenada en ALLDATASET ejecutada en MYRIAD FP16"
   ]
  },
  {
   "cell_type": "code",
   "execution_count": null,
   "metadata": {},
   "outputs": [],
   "source": [
    "! python3 ~/intel/openvino2020/deployment_tools/tools/accuracy_checker_tool/accuracy_check.py \\\n",
    "    -c /scratch/tfg-adas/models/ssd_inception_v2_coco_2018_01_28/configs/ssd_inception_v2.yml \\\n",
    "    -m /scratch/tfg-adas/models/ssd_inception_v2_coco_2018_01_28/alldataset/IR/FP16 \\\n",
    "    -s /scratch/tfg-adas/datasets/kitti/voc_converted/ \\\n",
    "    -a /scratch/tfg-adas/datasets/kitti/openvino_annotations/ \\\n",
    "    -tf dlsdk \\\n",
    "    -tt FP16 \\\n",
    "    -td MYRIAD "
   ]
  }
 ],
 "metadata": {
  "kernelspec": {
   "display_name": "Python 3",
   "language": "python",
   "name": "python3"
  },
  "language_info": {
   "codemirror_mode": {
    "name": "ipython",
    "version": 3
   },
   "file_extension": ".py",
   "mimetype": "text/x-python",
   "name": "python",
   "nbconvert_exporter": "python",
   "pygments_lexer": "ipython3",
   "version": "3.6.5"
  }
 },
 "nbformat": 4,
 "nbformat_minor": 2
}
